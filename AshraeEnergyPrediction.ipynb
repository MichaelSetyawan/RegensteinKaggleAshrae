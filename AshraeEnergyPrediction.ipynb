{
 "cells": [
  {
   "cell_type": "code",
   "execution_count": 33,
   "metadata": {},
   "outputs": [],
   "source": [
    "import pandas as pd\n",
    "import numpy as np\n",
    "import os\n",
    "import matplotlib.pyplot as plt\n",
    "from datetime import date\n",
    "import time"
   ]
  },
  {
   "cell_type": "code",
   "execution_count": 6,
   "metadata": {},
   "outputs": [],
   "source": [
    "%matplotlib inline"
   ]
  },
  {
   "cell_type": "code",
   "execution_count": 7,
   "metadata": {},
   "outputs": [],
   "source": [
    "#change datapath here\n",
    "# datapath='/Users/michaelsetyawan/Desktop/ANALYTICS/Python-References/Ashrae/data'\n",
    "datapath='C:/Users/SSK/Documents/Competition_/Kaggle/ashrae-energy-prediction'"
   ]
  },
  {
   "cell_type": "markdown",
   "metadata": {},
   "source": [
    "# Read files related to train data"
   ]
  },
  {
   "cell_type": "code",
   "execution_count": 32,
   "metadata": {},
   "outputs": [],
   "source": [
    "train             = pd.read_csv(datapath+'/train.csv', nrows=2000)\n",
    "building_metadata = pd.read_csv(datapath+'/building_metadata.csv')\n",
    "weather_train     = pd.read_csv(datapath+'/weather_train.csv')"
   ]
  },
  {
   "cell_type": "markdown",
   "metadata": {},
   "source": [
    "## Reduce memory"
   ]
  },
  {
   "cell_type": "code",
   "execution_count": 12,
   "metadata": {},
   "outputs": [],
   "source": [
    "## Reducing memory\n",
    "## Function to reduce the DF size\n",
    "def reduce_memory(df, verbose=True):\n",
    "    numerics = ['int16', 'int32', 'int64', 'float16', 'float32', 'float64']\n",
    "    start_mem = df.memory_usage().sum() / 1024**2    \n",
    "    for col in df.columns:\n",
    "        col_type = df[col].dtypes\n",
    "        if col_type in numerics:\n",
    "            c_min = df[col].min()\n",
    "            c_max = df[col].max()\n",
    "            if str(col_type)[:3] == 'int':\n",
    "                if c_min > np.iinfo(np.int8).min and c_max < np.iinfo(np.int8).max:\n",
    "                    df[col] = df[col].astype(np.int8)\n",
    "                elif c_min > np.iinfo(np.int16).min and c_max < np.iinfo(np.int16).max:\n",
    "                    df[col] = df[col].astype(np.int16)\n",
    "                elif c_min > np.iinfo(np.int32).min and c_max < np.iinfo(np.int32).max:\n",
    "                    df[col] = df[col].astype(np.int32)\n",
    "                elif c_min > np.iinfo(np.int64).min and c_max < np.iinfo(np.int64).max:\n",
    "                    df[col] = df[col].astype(np.int64)  \n",
    "            else:\n",
    "                if c_min > np.finfo(np.float16).min and c_max < np.finfo(np.float16).max:\n",
    "                    df[col] = df[col].astype(np.float16)\n",
    "                elif c_min > np.finfo(np.float32).min and c_max < np.finfo(np.float32).max:\n",
    "                    df[col] = df[col].astype(np.float32)\n",
    "                else:\n",
    "                    df[col] = df[col].astype(np.float64)    \n",
    "    end_mem = df.memory_usage().sum() / 1024**2\n",
    "    if verbose: print('Mem. usage decreased to {:5.2f} Mb ({:.1f}% reduction)'.format(end_mem, 100 * (start_mem - end_mem) / start_mem))\n",
    "    return df"
   ]
  },
  {
   "cell_type": "code",
   "execution_count": 14,
   "metadata": {},
   "outputs": [
    {
     "name": "stdout",
     "output_type": "stream",
     "text": [
      "Mem. usage decreased to  0.03 Mb (0.0% reduction)\n",
      "Mem. usage decreased to  3.07 Mb (0.0% reduction)\n",
      "Mem. usage decreased to  0.03 Mb (60.3% reduction)\n"
     ]
    }
   ],
   "source": [
    "train               = reduce_memory(train)\n",
    "weather_train       = reduce_memory(weather_train)\n",
    "building_metadata   = reduce_memory(building_metadata)"
   ]
  },
  {
   "cell_type": "markdown",
   "metadata": {},
   "source": [
    "# Functions"
   ]
  },
  {
   "cell_type": "code",
   "execution_count": 15,
   "metadata": {},
   "outputs": [],
   "source": [
    "#missing value computation\n",
    "def cal_missing_val(df):\n",
    "    data_dict = {}\n",
    "    for col in df.columns:\n",
    "        data_dict[col] = df[col].isnull().sum()/df.shape[0]*100\n",
    "    return pd.DataFrame.from_dict(data_dict, orient='index', columns=['MissingValue'])"
   ]
  },
  {
   "cell_type": "markdown",
   "metadata": {},
   "source": [
    "## EDA - Missing value "
   ]
  },
  {
   "cell_type": "code",
   "execution_count": 16,
   "metadata": {},
   "outputs": [],
   "source": [
    "missing_weather  = cal_missing_val(weather_train)\n",
    "missing_building = cal_missing_val(building_metadata)"
   ]
  },
  {
   "cell_type": "code",
   "execution_count": 17,
   "metadata": {},
   "outputs": [
    {
     "data": {
      "text/html": [
       "<div>\n",
       "<style scoped>\n",
       "    .dataframe tbody tr th:only-of-type {\n",
       "        vertical-align: middle;\n",
       "    }\n",
       "\n",
       "    .dataframe tbody tr th {\n",
       "        vertical-align: top;\n",
       "    }\n",
       "\n",
       "    .dataframe thead th {\n",
       "        text-align: right;\n",
       "    }\n",
       "</style>\n",
       "<table border=\"1\" class=\"dataframe\">\n",
       "  <thead>\n",
       "    <tr style=\"text-align: right;\">\n",
       "      <th></th>\n",
       "      <th>MissingValue</th>\n",
       "    </tr>\n",
       "  </thead>\n",
       "  <tbody>\n",
       "    <tr>\n",
       "      <th>site_id</th>\n",
       "      <td>0.000000</td>\n",
       "    </tr>\n",
       "    <tr>\n",
       "      <th>timestamp</th>\n",
       "      <td>0.000000</td>\n",
       "    </tr>\n",
       "    <tr>\n",
       "      <th>air_temperature</th>\n",
       "      <td>0.039350</td>\n",
       "    </tr>\n",
       "    <tr>\n",
       "      <th>cloud_coverage</th>\n",
       "      <td>49.489529</td>\n",
       "    </tr>\n",
       "    <tr>\n",
       "      <th>dew_temperature</th>\n",
       "      <td>0.080845</td>\n",
       "    </tr>\n",
       "    <tr>\n",
       "      <th>precip_depth_1_hr</th>\n",
       "      <td>35.979052</td>\n",
       "    </tr>\n",
       "    <tr>\n",
       "      <th>sea_level_pressure</th>\n",
       "      <td>7.596603</td>\n",
       "    </tr>\n",
       "    <tr>\n",
       "      <th>wind_direction</th>\n",
       "      <td>4.484414</td>\n",
       "    </tr>\n",
       "    <tr>\n",
       "      <th>wind_speed</th>\n",
       "      <td>0.217496</td>\n",
       "    </tr>\n",
       "  </tbody>\n",
       "</table>\n",
       "</div>"
      ],
      "text/plain": [
       "                    MissingValue\n",
       "site_id                 0.000000\n",
       "timestamp               0.000000\n",
       "air_temperature         0.039350\n",
       "cloud_coverage         49.489529\n",
       "dew_temperature         0.080845\n",
       "precip_depth_1_hr      35.979052\n",
       "sea_level_pressure      7.596603\n",
       "wind_direction          4.484414\n",
       "wind_speed              0.217496"
      ]
     },
     "execution_count": 17,
     "metadata": {},
     "output_type": "execute_result"
    }
   ],
   "source": [
    "missing_weather"
   ]
  },
  {
   "cell_type": "code",
   "execution_count": 18,
   "metadata": {},
   "outputs": [
    {
     "data": {
      "text/html": [
       "<div>\n",
       "<style scoped>\n",
       "    .dataframe tbody tr th:only-of-type {\n",
       "        vertical-align: middle;\n",
       "    }\n",
       "\n",
       "    .dataframe tbody tr th {\n",
       "        vertical-align: top;\n",
       "    }\n",
       "\n",
       "    .dataframe thead th {\n",
       "        text-align: right;\n",
       "    }\n",
       "</style>\n",
       "<table border=\"1\" class=\"dataframe\">\n",
       "  <thead>\n",
       "    <tr style=\"text-align: right;\">\n",
       "      <th></th>\n",
       "      <th>MissingValue</th>\n",
       "    </tr>\n",
       "  </thead>\n",
       "  <tbody>\n",
       "    <tr>\n",
       "      <th>site_id</th>\n",
       "      <td>0.000000</td>\n",
       "    </tr>\n",
       "    <tr>\n",
       "      <th>building_id</th>\n",
       "      <td>0.000000</td>\n",
       "    </tr>\n",
       "    <tr>\n",
       "      <th>primary_use</th>\n",
       "      <td>0.000000</td>\n",
       "    </tr>\n",
       "    <tr>\n",
       "      <th>square_feet</th>\n",
       "      <td>0.000000</td>\n",
       "    </tr>\n",
       "    <tr>\n",
       "      <th>year_built</th>\n",
       "      <td>53.416149</td>\n",
       "    </tr>\n",
       "    <tr>\n",
       "      <th>floor_count</th>\n",
       "      <td>75.500345</td>\n",
       "    </tr>\n",
       "  </tbody>\n",
       "</table>\n",
       "</div>"
      ],
      "text/plain": [
       "             MissingValue\n",
       "site_id          0.000000\n",
       "building_id      0.000000\n",
       "primary_use      0.000000\n",
       "square_feet      0.000000\n",
       "year_built      53.416149\n",
       "floor_count     75.500345"
      ]
     },
     "execution_count": 18,
     "metadata": {},
     "output_type": "execute_result"
    }
   ],
   "source": [
    "missing_building"
   ]
  },
  {
   "cell_type": "code",
   "execution_count": 19,
   "metadata": {},
   "outputs": [
    {
     "data": {
      "image/png": "[encoded data removed]",
      "text/plain": [
       "<Figure size 432x288 with 1 Axes>"
      ]
     },
     "metadata": {
      "needs_background": "light"
     },
     "output_type": "display_data"
    }
   ],
   "source": [
    "import matplotlib.pyplot as plt\n",
    "plt.plot(train[train['meter'] == 1]['meter_reading'])\n",
    "plt.show()"
   ]
  },
  {
   "cell_type": "code",
   "execution_count": 20,
   "metadata": {},
   "outputs": [
    {
     "data": {
      "image/png": "[encoded data removed]",
      "text/plain": [
       "<Figure size 432x288 with 1 Axes>"
      ]
     },
     "metadata": {
      "needs_background": "light"
     },
     "output_type": "display_data"
    }
   ],
   "source": [
    "plt.plot(train[train['meter'] == 0]['meter_reading'])\n",
    "plt.show()"
   ]
  },
  {
   "cell_type": "code",
   "execution_count": 21,
   "metadata": {},
   "outputs": [
    {
     "data": {
      "image/png": "[encoded data removed]",
      "text/plain": [
       "<Figure size 432x288 with 1 Axes>"
      ]
     },
     "metadata": {
      "needs_background": "light"
     },
     "output_type": "display_data"
    }
   ],
   "source": [
    "plt.plot(train[train['meter'] == 2]['meter_reading'])\n",
    "plt.show()"
   ]
  },
  {
   "cell_type": "code",
   "execution_count": 22,
   "metadata": {},
   "outputs": [
    {
     "data": {
      "image/png": "[encoded data removed]",
      "text/plain": [
       "<Figure size 432x288 with 1 Axes>"
      ]
     },
     "metadata": {
      "needs_background": "light"
     },
     "output_type": "display_data"
    }
   ],
   "source": [
    "plt.plot(train[train['meter'] == 3]['meter_reading'])\n",
    "plt.show()"
   ]
  },
  {
   "cell_type": "markdown",
   "metadata": {},
   "source": [
    "## Imputation - Missing value "
   ]
  },
  {
   "cell_type": "markdown",
   "metadata": {},
   "source": [
    "### Floor_count (Method Linear regression)"
   ]
  },
  {
   "cell_type": "code",
   "execution_count": 23,
   "metadata": {},
   "outputs": [],
   "source": [
    "import numpy as np\n",
    "from sklearn.linear_model import LinearRegression\n",
    "from sklearn.preprocessing import LabelBinarizer"
   ]
  },
  {
   "cell_type": "code",
   "execution_count": 24,
   "metadata": {},
   "outputs": [],
   "source": [
    "building_metadata_part = building_metadata[['building_id','site_id','primary_use','square_feet', 'floor_count']]\n",
    "cols    = ['primary_use', 'site_id']\n",
    "encode_df = pd.DataFrame()\n",
    "for col in cols:\n",
    "    lb_style   = LabelBinarizer()\n",
    "    lb_results = lb_style.fit_transform(building_metadata_part[col])\n",
    "    label_code = pd.DataFrame(lb_results, columns=lb_style.classes_)\n",
    "    encode_df  = pd.concat([encode_df, label_code], axis=1)\n",
    "    \n",
    "buidling_encode = pd.concat([encode_df, building_metadata_part[['building_id','square_feet', 'floor_count']]], axis=1)\n",
    "buidling_encode = buidling_encode.set_index('building_id')\n",
    "test            = buidling_encode[buidling_encode['floor_count'].isnull()]\n",
    "train           = buidling_encode[buidling_encode['floor_count'].notnull()]\n",
    "model           = LinearRegression()\n",
    "X_test          = test.drop(['floor_count'],axis=1)\n",
    "X_train         = train.iloc[:,:-1].values\n",
    "Y_train         = train['floor_count'].values\n",
    "building_model  = model.fit(X_train, Y_train)\n",
    "y_pred          = building_model.predict(X_test)\n",
    "X_test['floor_count'] = np.around(y_pred).astype(int)\n",
    "combine_data    = pd.concat([train, X_test], axis=0)\n",
    "building_metadata_noNA = pd.merge(building_metadata[['site_id', 'building_id', 'primary_use', 'square_feet', 'year_built']],\n",
    "                            combine_data[['floor_count']], how='inner',left_index=True, right_index=True)"
   ]
  },
  {
   "cell_type": "markdown",
   "metadata": {},
   "source": [
    "### Floor_count (Method MICE)"
   ]
  },
  {
   "cell_type": "markdown",
   "metadata": {},
   "source": [
    "This type of imputation works by filling the missing data multiple times. \n",
    "Multiple Imputations (MIs) are much better than a single imputation as it measures the uncertainty of \n",
    "the missing values in a better way. The chained equations approach is also very flexible and can handle \n",
    "different variables of different data types (ie., continuous or binary) as well as complexities such as bounds \n",
    "or survey skip patterns."
   ]
  },
  {
   "cell_type": "code",
   "execution_count": 46,
   "metadata": {},
   "outputs": [],
   "source": [
    "# from impute.imputation.cs import mice\n",
    "# imputed_floorcount = mice(building_metadata[['floor_count', 'square_feet']].values)"
   ]
  },
  {
   "cell_type": "markdown",
   "metadata": {},
   "source": [
    "Other methods to calculate floor_counts\n",
    "Group by siteid or primaryuse and then calculate specific means/medians to fill in.\n",
    "Calculate mean energy consumption of building with missing floor_count, then find buildings with similar energy consumptions taking into account other comparable features."
   ]
  },
  {
   "cell_type": "markdown",
   "metadata": {},
   "source": [
    " ### Weather data imputation (Method Rolling mean, median, min, max (3, 5, 7, 14, 30 days)"
   ]
  },
  {
   "cell_type": "code",
   "execution_count": 26,
   "metadata": {},
   "outputs": [
    {
     "name": "stdout",
     "output_type": "stream",
     "text": [
      "processing missing values for air_temperature 3\n",
      "processing missing values for air_temperature 5\n",
      "processing missing values for air_temperature 7\n",
      "processing missing values for air_temperature 14\n",
      "processing missing values for air_temperature 30\n",
      "processing missing values for cloud_coverage 3\n",
      "processing missing values for cloud_coverage 5\n",
      "processing missing values for cloud_coverage 7\n",
      "processing missing values for cloud_coverage 14\n",
      "processing missing values for cloud_coverage 30\n",
      "processing missing values for dew_temperature 3\n",
      "processing missing values for dew_temperature 5\n",
      "processing missing values for dew_temperature 7\n",
      "processing missing values for dew_temperature 14\n",
      "processing missing values for dew_temperature 30\n",
      "processing missing values for precip_depth_1_hr 3\n",
      "processing missing values for precip_depth_1_hr 5\n",
      "processing missing values for precip_depth_1_hr 7\n",
      "processing missing values for precip_depth_1_hr 14\n",
      "processing missing values for precip_depth_1_hr 30\n",
      "processing missing values for sea_level_pressure 3\n",
      "processing missing values for sea_level_pressure 5\n",
      "processing missing values for sea_level_pressure 7\n",
      "processing missing values for sea_level_pressure 14\n",
      "processing missing values for sea_level_pressure 30\n",
      "processing missing values for wind_direction 3\n",
      "processing missing values for wind_direction 5\n",
      "processing missing values for wind_direction 7\n",
      "processing missing values for wind_direction 14\n",
      "processing missing values for wind_direction 30\n",
      "processing missing values for wind_speed 3\n",
      "processing missing values for wind_speed 5\n",
      "processing missing values for wind_speed 7\n",
      "processing missing values for wind_speed 14\n",
      "processing missing values for wind_speed 30\n"
     ]
    }
   ],
   "source": [
    "def rolling_mean_weather(df, cols, num_of_days):\n",
    "    #assumes that functions will be mean, median, min, max\n",
    "    for col in cols:\n",
    "        for day in num_of_days:\n",
    "            print (\"processing missing values for\", col, day)\n",
    "            df[col+'_'+'R'+str(day)+'_'+'mean']   = df.groupby('site_id')[col].apply(lambda x: x.fillna(x.rolling(day, center=True, min_periods=1).mean()))\n",
    "            df[col+'_'+'R'+str(day)+'_'+'median'] = df.groupby('site_id')[col].apply(lambda x: x.fillna(x.rolling(day, center=True, min_periods=1).median()))\n",
    "            df[col+'_'+'R'+str(day)+'_'+'min']    = df.groupby('site_id')[col].apply(lambda x: x.fillna(x.rolling(day, center=True, min_periods=1).min()))\n",
    "            df[col+'_'+'R'+str(day)+'_'+'max']    = df.groupby('site_id')[col].apply(lambda x: x.fillna(x.rolling(day, center=True, min_periods=1).max()))\n",
    "cols_to_impute = ['air_temperature','cloud_coverage','dew_temperature','precip_depth_1_hr', 'sea_level_pressure', 'wind_direction', 'wind_speed' ]\n",
    "weather_train  = rolling_mean_weather(weather_train, cols_to_impute, [3,5,7,14,30])"
   ]
  },
  {
   "cell_type": "markdown",
   "metadata": {},
   "source": [
    "## Date Preprocessing for train and weather"
   ]
  },
  {
   "cell_type": "code",
   "execution_count": 36,
   "metadata": {},
   "outputs": [],
   "source": [
    "def change_datetime(df):\n",
    "    df['timestamp'] = pd.to_datetime(df['timestamp'])\n",
    "    df['year']      = df['timestamp'].map(lambda x: x.strftime('%Y')).astype(int)\n",
    "    df['month']     = df['timestamp'].map(lambda x: x.strftime('%m')).astype(int)\n",
    "    df['weekday']   = df['timestamp'].map(lambda x: x.weekday()).astype(int)\n",
    "    df['hour']      = df['timestamp'].map(lambda x: x.hour).astype(int)\n",
    "    \n",
    "    return df\n",
    "\n",
    "def change_date(df):\n",
    "    df['timestamp'] = pd.to_datetime(df['timestamp'])\n",
    "    df['year']      = pd.to_datetime(df['timestamp']).map(lambda x: x.strftime('%Y')).astype(int)\n",
    "    df['month']     = df['timestamp'].map(lambda x: x.strftime('%m')).astype(int)\n",
    "    df['weekday']   = df['timestamp'].map(lambda x: x.weekday()).astype(int)\n",
    "    return df\n",
    "\n",
    "weather_train   = change_datetime(weather_train)\n",
    "train           = change_date(train)"
   ]
  }
 ],
 "metadata": {
  "kernelspec": {
   "display_name": "Python 3",
   "language": "python",
   "name": "python3"
  },
  "language_info": {
   "codemirror_mode": {
    "name": "ipython",
    "version": 3
   },
   "file_extension": ".py",
   "mimetype": "text/x-python",
   "name": "python",
   "nbconvert_exporter": "python",
   "pygments_lexer": "ipython3",
   "version": "3.7.3"
  }
 },
 "nbformat": 4,
 "nbformat_minor": 2
}
