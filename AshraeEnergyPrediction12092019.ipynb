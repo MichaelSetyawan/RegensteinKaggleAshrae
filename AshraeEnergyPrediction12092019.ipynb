{
 "cells": [
  {
   "cell_type": "code",
   "execution_count": 6,
   "metadata": {},
   "outputs": [],
   "source": [
    "import pandas as pd\n",
    "import numpy as np\n",
    "import os\n",
    "import matplotlib.pyplot as plt\n",
    "from datetime import date\n",
    "import time"
   ]
  },
  {
   "cell_type": "code",
   "execution_count": 7,
   "metadata": {},
   "outputs": [],
   "source": [
    "%matplotlib inline"
   ]
  },
  {
   "cell_type": "code",
   "execution_count": 8,
   "metadata": {},
   "outputs": [],
   "source": [
    "#change datapath here\n",
    "# datapath='/Users/michaelsetyawan/Desktop/ANALYTICS/Python-References/Ashrae/data'\n",
    "datapath='C:/Users/vincentlee/Desktop/datascienceprojects/Kaggle/ashrae/'"
   ]
  },
  {
   "cell_type": "markdown",
   "metadata": {},
   "source": [
    "# Read files related to train data"
   ]
  },
  {
   "cell_type": "code",
   "execution_count": 21,
   "metadata": {},
   "outputs": [],
   "source": [
    "train             = pd.read_csv(datapath+'/train.csv')\n",
    "building_metadata = pd.read_csv(datapath+'/building_metadata.csv')\n",
    "weather_train     = pd.read_csv(datapath+'/weather_train.csv')\n",
    "test              = pd.read_csv(datapath+'/test.csv')\n",
    "weather_test      = pd.read_csv(datapath+'/weather_test.csv')"
   ]
  },
  {
   "cell_type": "markdown",
   "metadata": {},
   "source": [
    "## Reduce memory"
   ]
  },
  {
   "cell_type": "code",
   "execution_count": 22,
   "metadata": {},
   "outputs": [],
   "source": [
    "## Reducing memory\n",
    "## Function to reduce the DF size\n",
    "def reduce_memory(df, verbose=True):\n",
    "    numerics = ['int16', 'int32', 'int64', 'float16', 'float32', 'float64']\n",
    "    start_mem = df.memory_usage().sum() / 1024**2    \n",
    "    for col in df.columns:\n",
    "        col_type = df[col].dtypes\n",
    "        if col_type in numerics:\n",
    "            c_min = df[col].min()\n",
    "            c_max = df[col].max()\n",
    "            if str(col_type)[:3] == 'int':\n",
    "                if c_min > np.iinfo(np.int8).min and c_max < np.iinfo(np.int8).max:\n",
    "                    df[col] = df[col].astype(np.int8)\n",
    "                elif c_min > np.iinfo(np.int16).min and c_max < np.iinfo(np.int16).max:\n",
    "                    df[col] = df[col].astype(np.int16)\n",
    "                elif c_min > np.iinfo(np.int32).min and c_max < np.iinfo(np.int32).max:\n",
    "                    df[col] = df[col].astype(np.int32)\n",
    "                elif c_min > np.iinfo(np.int64).min and c_max < np.iinfo(np.int64).max:\n",
    "                    df[col] = df[col].astype(np.int64)  \n",
    "            else:\n",
    "                if c_min > np.finfo(np.float16).min and c_max < np.finfo(np.float16).max:\n",
    "                    df[col] = df[col].astype(np.float16)\n",
    "                elif c_min > np.finfo(np.float32).min and c_max < np.finfo(np.float32).max:\n",
    "                    df[col] = df[col].astype(np.float32)\n",
    "                else:\n",
    "                    df[col] = df[col].astype(np.float64)    \n",
    "    end_mem = df.memory_usage().sum() / 1024**2\n",
    "    if verbose: print('Mem. usage decreased to {:5.2f} Mb ({:.1f}% reduction)'.format(end_mem, 100 * (start_mem - end_mem) / start_mem))\n",
    "    return df"
   ]
  },
  {
   "cell_type": "code",
   "execution_count": 23,
   "metadata": {},
   "outputs": [
    {
     "name": "stdout",
     "output_type": "stream",
     "text": [
      "Mem. usage decreased to 289.19 Mb (53.1% reduction)\n",
      "Mem. usage decreased to  3.07 Mb (68.1% reduction)\n",
      "Mem. usage decreased to  0.03 Mb (60.3% reduction)\n",
      "Mem. usage decreased to 596.49 Mb (53.1% reduction)\n",
      "Mem. usage decreased to  6.08 Mb (68.1% reduction)\n"
     ]
    }
   ],
   "source": [
    "train               = reduce_memory(train)\n",
    "weather_train       = reduce_memory(weather_train)\n",
    "building_metadata   = reduce_memory(building_metadata)\n",
    "test                = reduce_memory(test)\n",
    "weather_test        = reduce_memory(weather_test)"
   ]
  },
  {
   "cell_type": "markdown",
   "metadata": {},
   "source": [
    "# Functions"
   ]
  },
  {
   "cell_type": "code",
   "execution_count": 24,
   "metadata": {},
   "outputs": [],
   "source": [
    "#missing value computation\n",
    "def cal_missing_val(df):\n",
    "    data_dict = {}\n",
    "    for col in df.columns:\n",
    "        data_dict[col] = df[col].isnull().sum()/df.shape[0]*100\n",
    "    return pd.DataFrame.from_dict(data_dict, orient='index', columns=['MissingValue'])"
   ]
  },
  {
   "cell_type": "markdown",
   "metadata": {},
   "source": [
    "## EDA - Missing value "
   ]
  },
  {
   "cell_type": "code",
   "execution_count": 25,
   "metadata": {},
   "outputs": [],
   "source": [
    "missing_weather  = cal_missing_val(weather_train)\n",
    "missing_building = cal_missing_val(building_metadata)"
   ]
  },
  {
   "cell_type": "code",
   "execution_count": 26,
   "metadata": {},
   "outputs": [
    {
     "data": {
      "text/html": [
       "<div>\n",
       "<style scoped>\n",
       "    .dataframe tbody tr th:only-of-type {\n",
       "        vertical-align: middle;\n",
       "    }\n",
       "\n",
       "    .dataframe tbody tr th {\n",
       "        vertical-align: top;\n",
       "    }\n",
       "\n",
       "    .dataframe thead th {\n",
       "        text-align: right;\n",
       "    }\n",
       "</style>\n",
       "<table border=\"1\" class=\"dataframe\">\n",
       "  <thead>\n",
       "    <tr style=\"text-align: right;\">\n",
       "      <th></th>\n",
       "      <th>MissingValue</th>\n",
       "    </tr>\n",
       "  </thead>\n",
       "  <tbody>\n",
       "    <tr>\n",
       "      <th>site_id</th>\n",
       "      <td>0.000000</td>\n",
       "    </tr>\n",
       "    <tr>\n",
       "      <th>timestamp</th>\n",
       "      <td>0.000000</td>\n",
       "    </tr>\n",
       "    <tr>\n",
       "      <th>air_temperature</th>\n",
       "      <td>0.039350</td>\n",
       "    </tr>\n",
       "    <tr>\n",
       "      <th>cloud_coverage</th>\n",
       "      <td>49.489529</td>\n",
       "    </tr>\n",
       "    <tr>\n",
       "      <th>dew_temperature</th>\n",
       "      <td>0.080845</td>\n",
       "    </tr>\n",
       "    <tr>\n",
       "      <th>precip_depth_1_hr</th>\n",
       "      <td>35.979052</td>\n",
       "    </tr>\n",
       "    <tr>\n",
       "      <th>sea_level_pressure</th>\n",
       "      <td>7.596603</td>\n",
       "    </tr>\n",
       "    <tr>\n",
       "      <th>wind_direction</th>\n",
       "      <td>4.484414</td>\n",
       "    </tr>\n",
       "    <tr>\n",
       "      <th>wind_speed</th>\n",
       "      <td>0.217496</td>\n",
       "    </tr>\n",
       "  </tbody>\n",
       "</table>\n",
       "</div>"
      ],
      "text/plain": [
       "                    MissingValue\n",
       "site_id                 0.000000\n",
       "timestamp               0.000000\n",
       "air_temperature         0.039350\n",
       "cloud_coverage         49.489529\n",
       "dew_temperature         0.080845\n",
       "precip_depth_1_hr      35.979052\n",
       "sea_level_pressure      7.596603\n",
       "wind_direction          4.484414\n",
       "wind_speed              0.217496"
      ]
     },
     "execution_count": 26,
     "metadata": {},
     "output_type": "execute_result"
    }
   ],
   "source": [
    "missing_weather"
   ]
  },
  {
   "cell_type": "code",
   "execution_count": 36,
   "metadata": {},
   "outputs": [
    {
     "data": {
      "text/html": [
       "<div>\n",
       "<style scoped>\n",
       "    .dataframe tbody tr th:only-of-type {\n",
       "        vertical-align: middle;\n",
       "    }\n",
       "\n",
       "    .dataframe tbody tr th {\n",
       "        vertical-align: top;\n",
       "    }\n",
       "\n",
       "    .dataframe thead th {\n",
       "        text-align: right;\n",
       "    }\n",
       "</style>\n",
       "<table border=\"1\" class=\"dataframe\">\n",
       "  <thead>\n",
       "    <tr style=\"text-align: right;\">\n",
       "      <th></th>\n",
       "      <th>MissingValue</th>\n",
       "    </tr>\n",
       "  </thead>\n",
       "  <tbody>\n",
       "    <tr>\n",
       "      <th>site_id</th>\n",
       "      <td>0.000000</td>\n",
       "    </tr>\n",
       "    <tr>\n",
       "      <th>timestamp</th>\n",
       "      <td>0.000000</td>\n",
       "    </tr>\n",
       "    <tr>\n",
       "      <th>air_temperature</th>\n",
       "      <td>0.039350</td>\n",
       "    </tr>\n",
       "    <tr>\n",
       "      <th>cloud_coverage</th>\n",
       "      <td>49.489529</td>\n",
       "    </tr>\n",
       "    <tr>\n",
       "      <th>dew_temperature</th>\n",
       "      <td>0.080845</td>\n",
       "    </tr>\n",
       "    <tr>\n",
       "      <th>precip_depth_1_hr</th>\n",
       "      <td>35.979052</td>\n",
       "    </tr>\n",
       "    <tr>\n",
       "      <th>sea_level_pressure</th>\n",
       "      <td>7.596603</td>\n",
       "    </tr>\n",
       "    <tr>\n",
       "      <th>wind_direction</th>\n",
       "      <td>4.484414</td>\n",
       "    </tr>\n",
       "    <tr>\n",
       "      <th>wind_speed</th>\n",
       "      <td>0.217496</td>\n",
       "    </tr>\n",
       "  </tbody>\n",
       "</table>\n",
       "</div>"
      ],
      "text/plain": [
       "                    MissingValue\n",
       "site_id                 0.000000\n",
       "timestamp               0.000000\n",
       "air_temperature         0.039350\n",
       "cloud_coverage         49.489529\n",
       "dew_temperature         0.080845\n",
       "precip_depth_1_hr      35.979052\n",
       "sea_level_pressure      7.596603\n",
       "wind_direction          4.484414\n",
       "wind_speed              0.217496"
      ]
     },
     "execution_count": 36,
     "metadata": {},
     "output_type": "execute_result"
    }
   ],
   "source": [
    "missing_weather"
   ]
  },
  {
   "cell_type": "code",
   "execution_count": 31,
   "metadata": {},
   "outputs": [
    {
     "data": {
      "text/html": [
       "<div>\n",
       "<style scoped>\n",
       "    .dataframe tbody tr th:only-of-type {\n",
       "        vertical-align: middle;\n",
       "    }\n",
       "\n",
       "    .dataframe tbody tr th {\n",
       "        vertical-align: top;\n",
       "    }\n",
       "\n",
       "    .dataframe thead th {\n",
       "        text-align: right;\n",
       "    }\n",
       "</style>\n",
       "<table border=\"1\" class=\"dataframe\">\n",
       "  <thead>\n",
       "    <tr style=\"text-align: right;\">\n",
       "      <th></th>\n",
       "      <th>MissingValue</th>\n",
       "    </tr>\n",
       "  </thead>\n",
       "  <tbody>\n",
       "    <tr>\n",
       "      <th>site_id</th>\n",
       "      <td>0.000000</td>\n",
       "    </tr>\n",
       "    <tr>\n",
       "      <th>timestamp</th>\n",
       "      <td>0.000000</td>\n",
       "    </tr>\n",
       "    <tr>\n",
       "      <th>air_temperature</th>\n",
       "      <td>0.037512</td>\n",
       "    </tr>\n",
       "    <tr>\n",
       "      <th>cloud_coverage</th>\n",
       "      <td>50.658808</td>\n",
       "    </tr>\n",
       "    <tr>\n",
       "      <th>dew_temperature</th>\n",
       "      <td>0.117947</td>\n",
       "    </tr>\n",
       "    <tr>\n",
       "      <th>precip_depth_1_hr</th>\n",
       "      <td>34.478057</td>\n",
       "    </tr>\n",
       "    <tr>\n",
       "      <th>sea_level_pressure</th>\n",
       "      <td>7.670167</td>\n",
       "    </tr>\n",
       "    <tr>\n",
       "      <th>wind_direction</th>\n",
       "      <td>4.461790</td>\n",
       "    </tr>\n",
       "    <tr>\n",
       "      <th>wind_speed</th>\n",
       "      <td>0.165919</td>\n",
       "    </tr>\n",
       "  </tbody>\n",
       "</table>\n",
       "</div>"
      ],
      "text/plain": [
       "                    MissingValue\n",
       "site_id                 0.000000\n",
       "timestamp               0.000000\n",
       "air_temperature         0.037512\n",
       "cloud_coverage         50.658808\n",
       "dew_temperature         0.117947\n",
       "precip_depth_1_hr      34.478057\n",
       "sea_level_pressure      7.670167\n",
       "wind_direction          4.461790\n",
       "wind_speed              0.165919"
      ]
     },
     "execution_count": 31,
     "metadata": {},
     "output_type": "execute_result"
    }
   ],
   "source": [
    "cal_missing_val(weather_test)"
   ]
  },
  {
   "cell_type": "code",
   "execution_count": 10,
   "metadata": {},
   "outputs": [
    {
     "data": {
      "text/html": [
       "<div>\n",
       "<style scoped>\n",
       "    .dataframe tbody tr th:only-of-type {\n",
       "        vertical-align: middle;\n",
       "    }\n",
       "\n",
       "    .dataframe tbody tr th {\n",
       "        vertical-align: top;\n",
       "    }\n",
       "\n",
       "    .dataframe thead th {\n",
       "        text-align: right;\n",
       "    }\n",
       "</style>\n",
       "<table border=\"1\" class=\"dataframe\">\n",
       "  <thead>\n",
       "    <tr style=\"text-align: right;\">\n",
       "      <th></th>\n",
       "      <th>MissingValue</th>\n",
       "    </tr>\n",
       "  </thead>\n",
       "  <tbody>\n",
       "    <tr>\n",
       "      <th>site_id</th>\n",
       "      <td>0.000000</td>\n",
       "    </tr>\n",
       "    <tr>\n",
       "      <th>building_id</th>\n",
       "      <td>0.000000</td>\n",
       "    </tr>\n",
       "    <tr>\n",
       "      <th>primary_use</th>\n",
       "      <td>0.000000</td>\n",
       "    </tr>\n",
       "    <tr>\n",
       "      <th>square_feet</th>\n",
       "      <td>0.000000</td>\n",
       "    </tr>\n",
       "    <tr>\n",
       "      <th>year_built</th>\n",
       "      <td>53.416149</td>\n",
       "    </tr>\n",
       "    <tr>\n",
       "      <th>floor_count</th>\n",
       "      <td>75.500345</td>\n",
       "    </tr>\n",
       "  </tbody>\n",
       "</table>\n",
       "</div>"
      ],
      "text/plain": [
       "             MissingValue\n",
       "site_id          0.000000\n",
       "building_id      0.000000\n",
       "primary_use      0.000000\n",
       "square_feet      0.000000\n",
       "year_built      53.416149\n",
       "floor_count     75.500345"
      ]
     },
     "execution_count": 10,
     "metadata": {},
     "output_type": "execute_result"
    }
   ],
   "source": [
    "missing_building"
   ]
  },
  {
   "cell_type": "code",
   "execution_count": 11,
   "metadata": {},
   "outputs": [
    {
     "data": {
      "image/png": "[encoded data removed]",
      "text/plain": [
       "<Figure size 432x288 with 1 Axes>"
      ]
     },
     "metadata": {
      "needs_background": "light"
     },
     "output_type": "display_data"
    }
   ],
   "source": [
    "import matplotlib.pyplot as plt\n",
    "plt.plot(train[train['meter'] == 1]['meter_reading'])\n",
    "plt.show()"
   ]
  },
  {
   "cell_type": "code",
   "execution_count": 12,
   "metadata": {},
   "outputs": [
    {
     "data": {
      "image/png": "[encoded data removed]",
      "text/plain": [
       "<Figure size 432x288 with 1 Axes>"
      ]
     },
     "metadata": {
      "needs_background": "light"
     },
     "output_type": "display_data"
    }
   ],
   "source": [
    "plt.plot(train[train['meter'] == 0]['meter_reading'])\n",
    "plt.show()"
   ]
  },
  {
   "cell_type": "code",
   "execution_count": 13,
   "metadata": {},
   "outputs": [
    {
     "data": {
      "image/png": "[encoded data removed]",
      "text/plain": [
       "<Figure size 432x288 with 1 Axes>"
      ]
     },
     "metadata": {
      "needs_background": "light"
     },
     "output_type": "display_data"
    }
   ],
   "source": [
    "plt.plot(train[train['meter'] == 2]['meter_reading'])\n",
    "plt.show()"
   ]
  },
  {
   "cell_type": "code",
   "execution_count": 14,
   "metadata": {},
   "outputs": [
    {
     "data": {
      "image/png": "[encoded data removed]",
      "text/plain": [
       "<Figure size 432x288 with 1 Axes>"
      ]
     },
     "metadata": {
      "needs_background": "light"
     },
     "output_type": "display_data"
    }
   ],
   "source": [
    "plt.plot(train[train['meter'] == 3]['meter_reading'])\n",
    "plt.show()"
   ]
  },
  {
   "cell_type": "markdown",
   "metadata": {},
   "source": [
    "## Imputation - Missing value "
   ]
  },
  {
   "cell_type": "markdown",
   "metadata": {},
   "source": [
    "### Floor_count (Method Linear regression)"
   ]
  },
  {
   "cell_type": "code",
   "execution_count": 27,
   "metadata": {},
   "outputs": [],
   "source": [
    "import numpy as np\n",
    "from sklearn.linear_model import LinearRegression\n",
    "from sklearn.preprocessing import LabelBinarizer"
   ]
  },
  {
   "cell_type": "code",
   "execution_count": 28,
   "metadata": {},
   "outputs": [],
   "source": [
    "building_metadata_part = building_metadata[['building_id','site_id','primary_use','square_feet', 'floor_count']]\n",
    "cols    = ['primary_use', 'site_id']\n",
    "encode_df = pd.DataFrame()\n",
    "for col in cols:\n",
    "    lb_style   = LabelBinarizer()\n",
    "    lb_results = lb_style.fit_transform(building_metadata_part[col])\n",
    "    label_code = pd.DataFrame(lb_results, columns=lb_style.classes_)\n",
    "    encode_df  = pd.concat([encode_df, label_code], axis=1)\n",
    "    \n",
    "buidling_encode = pd.concat([encode_df, building_metadata_part[['building_id','square_feet', 'floor_count']]], axis=1)\n",
    "buidling_encode = buidling_encode.set_index('building_id')\n",
    "test_           = buidling_encode[buidling_encode['floor_count'].isnull()]\n",
    "train_          = buidling_encode[buidling_encode['floor_count'].notnull()]\n",
    "model           = LinearRegression()\n",
    "X_test          = test_.drop(['floor_count'],axis=1)\n",
    "X_train         = train_.iloc[:,:-1].values\n",
    "Y_train         = train_['floor_count'].values\n",
    "building_model  = model.fit(X_train, Y_train)\n",
    "y_pred          = building_model.predict(X_test)\n",
    "X_test['floor_count'] = np.around(y_pred).astype(int)\n",
    "combine_data    = pd.concat([train_, X_test], axis=0)\n",
    "building_metadata_noNA = pd.merge(building_metadata[['site_id', 'building_id', 'primary_use', 'square_feet', 'year_built']],\n",
    "                            combine_data[['floor_count']], how='inner',left_index=True, right_index=True)"
   ]
  },
  {
   "cell_type": "markdown",
   "metadata": {},
   "source": [
    "### Floor_count (Method MICE)"
   ]
  },
  {
   "cell_type": "markdown",
   "metadata": {},
   "source": [
    "This type of imputation works by filling the missing data multiple times. \n",
    "Multiple Imputations (MIs) are much better than a single imputation as it measures the uncertainty of \n",
    "the missing values in a better way. The chained equations approach is also very flexible and can handle \n",
    "different variables of different data types (ie., continuous or binary) as well as complexities such as bounds \n",
    "or survey skip patterns."
   ]
  },
  {
   "cell_type": "code",
   "execution_count": 15,
   "metadata": {},
   "outputs": [],
   "source": [
    "# from impute.imputation.cs import mice\n",
    "# imputed_floorcount = mice(building_metadata[['floor_count', 'square_feet']].values)"
   ]
  },
  {
   "cell_type": "markdown",
   "metadata": {},
   "source": [
    "Other methods to calculate floor_counts\n",
    "Group by siteid or primaryuse and then calculate specific means/medians to fill in.\n",
    "Calculate mean energy consumption of building with missing floor_count, then find buildings with similar energy consumptions taking into account other comparable features."
   ]
  },
  {
   "cell_type": "markdown",
   "metadata": {},
   "source": [
    " ### Weather data imputation (Method Rolling mean, median, min, max (3, 5, 7, 14, 30 days)"
   ]
  },
  {
   "cell_type": "code",
   "execution_count": 29,
   "metadata": {},
   "outputs": [
    {
     "name": "stdout",
     "output_type": "stream",
     "text": [
      "processing missing values for air_temperature 72\n",
      "processing missing values for air_temperature 120\n",
      "processing missing values for air_temperature 168\n",
      "processing missing values for air_temperature 336\n",
      "processing missing values for air_temperature 720\n",
      "processing missing values for cloud_coverage 72\n",
      "processing missing values for cloud_coverage 120\n",
      "processing missing values for cloud_coverage 168\n",
      "processing missing values for cloud_coverage 336\n",
      "processing missing values for cloud_coverage 720\n",
      "processing missing values for dew_temperature 72\n",
      "processing missing values for dew_temperature 120\n",
      "processing missing values for dew_temperature 168\n",
      "processing missing values for dew_temperature 336\n",
      "processing missing values for dew_temperature 720\n",
      "processing missing values for precip_depth_1_hr 72\n",
      "processing missing values for precip_depth_1_hr 120\n",
      "processing missing values for precip_depth_1_hr 168\n",
      "processing missing values for precip_depth_1_hr 336\n",
      "processing missing values for precip_depth_1_hr 720\n",
      "processing missing values for sea_level_pressure 72\n",
      "processing missing values for sea_level_pressure 120\n",
      "processing missing values for sea_level_pressure 168\n",
      "processing missing values for sea_level_pressure 336\n",
      "processing missing values for sea_level_pressure 720\n",
      "processing missing values for wind_direction 72\n",
      "processing missing values for wind_direction 120\n",
      "processing missing values for wind_direction 168\n",
      "processing missing values for wind_direction 336\n",
      "processing missing values for wind_direction 720\n",
      "processing missing values for wind_speed 72\n",
      "processing missing values for wind_speed 120\n",
      "processing missing values for wind_speed 168\n",
      "processing missing values for wind_speed 336\n",
      "processing missing values for wind_speed 720\n",
      "processing missing values for air_temperature 72\n",
      "processing missing values for air_temperature 120\n",
      "processing missing values for air_temperature 168\n",
      "processing missing values for air_temperature 336\n",
      "processing missing values for air_temperature 720\n",
      "processing missing values for cloud_coverage 72\n",
      "processing missing values for cloud_coverage 120\n",
      "processing missing values for cloud_coverage 168\n",
      "processing missing values for cloud_coverage 336\n",
      "processing missing values for cloud_coverage 720\n",
      "processing missing values for dew_temperature 72\n",
      "processing missing values for dew_temperature 120\n",
      "processing missing values for dew_temperature 168\n",
      "processing missing values for dew_temperature 336\n",
      "processing missing values for dew_temperature 720\n",
      "processing missing values for precip_depth_1_hr 72\n",
      "processing missing values for precip_depth_1_hr 120\n",
      "processing missing values for precip_depth_1_hr 168\n",
      "processing missing values for precip_depth_1_hr 336\n",
      "processing missing values for precip_depth_1_hr 720\n",
      "processing missing values for sea_level_pressure 72\n",
      "processing missing values for sea_level_pressure 120\n",
      "processing missing values for sea_level_pressure 168\n",
      "processing missing values for sea_level_pressure 336\n",
      "processing missing values for sea_level_pressure 720\n",
      "processing missing values for wind_direction 72\n",
      "processing missing values for wind_direction 120\n",
      "processing missing values for wind_direction 168\n",
      "processing missing values for wind_direction 336\n",
      "processing missing values for wind_direction 720\n",
      "processing missing values for wind_speed 72\n",
      "processing missing values for wind_speed 120\n",
      "processing missing values for wind_speed 168\n",
      "processing missing values for wind_speed 336\n",
      "processing missing values for wind_speed 720\n"
     ]
    }
   ],
   "source": [
    "def rolling_mean_weather(df, cols, num_of_days):\n",
    "    #assumes that functions will be mean, median, min, max\n",
    "    for col in cols:\n",
    "        for day in num_of_days:\n",
    "            print (\"processing missing values for\", col, day)\n",
    "            df[col+'_'+'R'+str(day)+'_'+'mean']   = df.groupby('site_id')[col].apply(lambda x: x.fillna(x.rolling(day, center=True, min_periods=1).mean()))\n",
    "            df[col+'_'+'R'+str(day)+'_'+'median'] = df.groupby('site_id')[col].apply(lambda x: x.fillna(x.rolling(day, center=True, min_periods=1).median()))\n",
    "            df[col+'_'+'R'+str(day)+'_'+'min']    = df.groupby('site_id')[col].apply(lambda x: x.fillna(x.rolling(day, center=True, min_periods=1).min()))\n",
    "            df[col+'_'+'R'+str(day)+'_'+'max']    = df.groupby('site_id')[col].apply(lambda x: x.fillna(x.rolling(day, center=True, min_periods=1).max()))\n",
    "            \n",
    "    return df\n",
    "cols_to_impute = ['air_temperature','cloud_coverage','dew_temperature','precip_depth_1_hr', 'sea_level_pressure', 'wind_direction', 'wind_speed' ]\n",
    "weather_train  = rolling_mean_weather(weather_train, cols_to_impute, [72,120,168,336,720])\n",
    "weather_test  = rolling_mean_weather(weather_train, cols_to_impute, [72,120,168,336,720])\n"
   ]
  },
  {
   "cell_type": "code",
   "execution_count": 30,
   "metadata": {},
   "outputs": [
    {
     "data": {
      "text/plain": [
       "Index(['site_id', 'timestamp', 'air_temperature', 'cloud_coverage',\n",
       "       'dew_temperature', 'precip_depth_1_hr', 'sea_level_pressure',\n",
       "       'wind_direction', 'wind_speed', 'air_temperature_R72_mean',\n",
       "       ...\n",
       "       'wind_speed_R168_min', 'wind_speed_R168_max', 'wind_speed_R336_mean',\n",
       "       'wind_speed_R336_median', 'wind_speed_R336_min', 'wind_speed_R336_max',\n",
       "       'wind_speed_R720_mean', 'wind_speed_R720_median', 'wind_speed_R720_min',\n",
       "       'wind_speed_R720_max'],\n",
       "      dtype='object', length=149)"
      ]
     },
     "execution_count": 30,
     "metadata": {},
     "output_type": "execute_result"
    }
   ],
   "source": [
    "weather_train.columns"
   ]
  },
  {
   "cell_type": "code",
   "execution_count": 31,
   "metadata": {},
   "outputs": [
    {
     "data": {
      "text/plain": [
       "(139773, 149)"
      ]
     },
     "execution_count": 31,
     "metadata": {},
     "output_type": "execute_result"
    }
   ],
   "source": [
    "weather_train.shape"
   ]
  },
  {
   "cell_type": "code",
   "execution_count": 38,
   "metadata": {},
   "outputs": [
    {
     "data": {
      "text/plain": [
       "(139773, 149)"
      ]
     },
     "execution_count": 38,
     "metadata": {},
     "output_type": "execute_result"
    }
   ],
   "source": [
    "weather_test.shape"
   ]
  },
  {
   "cell_type": "code",
   "execution_count": 34,
   "metadata": {},
   "outputs": [
    {
     "data": {
      "text/html": [
       "<div>\n",
       "<style scoped>\n",
       "    .dataframe tbody tr th:only-of-type {\n",
       "        vertical-align: middle;\n",
       "    }\n",
       "\n",
       "    .dataframe tbody tr th {\n",
       "        vertical-align: top;\n",
       "    }\n",
       "\n",
       "    .dataframe thead th {\n",
       "        text-align: right;\n",
       "    }\n",
       "</style>\n",
       "<table border=\"1\" class=\"dataframe\">\n",
       "  <thead>\n",
       "    <tr style=\"text-align: right;\">\n",
       "      <th></th>\n",
       "      <th>site_id</th>\n",
       "      <th>timestamp</th>\n",
       "      <th>air_temperature</th>\n",
       "      <th>cloud_coverage</th>\n",
       "      <th>dew_temperature</th>\n",
       "      <th>precip_depth_1_hr</th>\n",
       "      <th>sea_level_pressure</th>\n",
       "      <th>wind_direction</th>\n",
       "      <th>wind_speed</th>\n",
       "      <th>air_temperature_R72_mean</th>\n",
       "      <th>...</th>\n",
       "      <th>wind_speed_R168_min</th>\n",
       "      <th>wind_speed_R168_max</th>\n",
       "      <th>wind_speed_R336_mean</th>\n",
       "      <th>wind_speed_R336_median</th>\n",
       "      <th>wind_speed_R336_min</th>\n",
       "      <th>wind_speed_R336_max</th>\n",
       "      <th>wind_speed_R720_mean</th>\n",
       "      <th>wind_speed_R720_median</th>\n",
       "      <th>wind_speed_R720_min</th>\n",
       "      <th>wind_speed_R720_max</th>\n",
       "    </tr>\n",
       "  </thead>\n",
       "  <tbody>\n",
       "  </tbody>\n",
       "</table>\n",
       "<p>0 rows × 149 columns</p>\n",
       "</div>"
      ],
      "text/plain": [
       "Empty DataFrame\n",
       "Columns: [site_id, timestamp, air_temperature, cloud_coverage, dew_temperature, precip_depth_1_hr, sea_level_pressure, wind_direction, wind_speed, air_temperature_R72_mean, air_temperature_R72_median, air_temperature_R72_min, air_temperature_R72_max, air_temperature_R120_mean, air_temperature_R120_median, air_temperature_R120_min, air_temperature_R120_max, air_temperature_R168_mean, air_temperature_R168_median, air_temperature_R168_min, air_temperature_R168_max, air_temperature_R336_mean, air_temperature_R336_median, air_temperature_R336_min, air_temperature_R336_max, air_temperature_R720_mean, air_temperature_R720_median, air_temperature_R720_min, air_temperature_R720_max, cloud_coverage_R72_mean, cloud_coverage_R72_median, cloud_coverage_R72_min, cloud_coverage_R72_max, cloud_coverage_R120_mean, cloud_coverage_R120_median, cloud_coverage_R120_min, cloud_coverage_R120_max, cloud_coverage_R168_mean, cloud_coverage_R168_median, cloud_coverage_R168_min, cloud_coverage_R168_max, cloud_coverage_R336_mean, cloud_coverage_R336_median, cloud_coverage_R336_min, cloud_coverage_R336_max, cloud_coverage_R720_mean, cloud_coverage_R720_median, cloud_coverage_R720_min, cloud_coverage_R720_max, dew_temperature_R72_mean, dew_temperature_R72_median, dew_temperature_R72_min, dew_temperature_R72_max, dew_temperature_R120_mean, dew_temperature_R120_median, dew_temperature_R120_min, dew_temperature_R120_max, dew_temperature_R168_mean, dew_temperature_R168_median, dew_temperature_R168_min, dew_temperature_R168_max, dew_temperature_R336_mean, dew_temperature_R336_median, dew_temperature_R336_min, dew_temperature_R336_max, dew_temperature_R720_mean, dew_temperature_R720_median, dew_temperature_R720_min, dew_temperature_R720_max, precip_depth_1_hr_R72_mean, precip_depth_1_hr_R72_median, precip_depth_1_hr_R72_min, precip_depth_1_hr_R72_max, precip_depth_1_hr_R120_mean, precip_depth_1_hr_R120_median, precip_depth_1_hr_R120_min, precip_depth_1_hr_R120_max, precip_depth_1_hr_R168_mean, precip_depth_1_hr_R168_median, precip_depth_1_hr_R168_min, precip_depth_1_hr_R168_max, precip_depth_1_hr_R336_mean, precip_depth_1_hr_R336_median, precip_depth_1_hr_R336_min, precip_depth_1_hr_R336_max, precip_depth_1_hr_R720_mean, precip_depth_1_hr_R720_median, precip_depth_1_hr_R720_min, precip_depth_1_hr_R720_max, sea_level_pressure_R72_mean, sea_level_pressure_R72_median, sea_level_pressure_R72_min, sea_level_pressure_R72_max, sea_level_pressure_R120_mean, sea_level_pressure_R120_median, sea_level_pressure_R120_min, sea_level_pressure_R120_max, sea_level_pressure_R168_mean, sea_level_pressure_R168_median, sea_level_pressure_R168_min, ...]\n",
       "Index: []\n",
       "\n",
       "[0 rows x 149 columns]"
      ]
     },
     "execution_count": 34,
     "metadata": {},
     "output_type": "execute_result"
    }
   ],
   "source": [
    "weather_train[weather_train['air_temperature_R72_mean'].isnull()]"
   ]
  },
  {
   "cell_type": "code",
   "execution_count": 40,
   "metadata": {},
   "outputs": [
    {
     "data": {
      "text/html": [
       "<div>\n",
       "<style scoped>\n",
       "    .dataframe tbody tr th:only-of-type {\n",
       "        vertical-align: middle;\n",
       "    }\n",
       "\n",
       "    .dataframe tbody tr th {\n",
       "        vertical-align: top;\n",
       "    }\n",
       "\n",
       "    .dataframe thead th {\n",
       "        text-align: right;\n",
       "    }\n",
       "</style>\n",
       "<table border=\"1\" class=\"dataframe\">\n",
       "  <thead>\n",
       "    <tr style=\"text-align: right;\">\n",
       "      <th></th>\n",
       "      <th>site_id</th>\n",
       "      <th>timestamp</th>\n",
       "      <th>air_temperature</th>\n",
       "      <th>cloud_coverage</th>\n",
       "      <th>dew_temperature</th>\n",
       "      <th>precip_depth_1_hr</th>\n",
       "      <th>sea_level_pressure</th>\n",
       "      <th>wind_direction</th>\n",
       "      <th>wind_speed</th>\n",
       "      <th>air_temperature_R72_mean</th>\n",
       "      <th>...</th>\n",
       "      <th>wind_speed_R168_min</th>\n",
       "      <th>wind_speed_R168_max</th>\n",
       "      <th>wind_speed_R336_mean</th>\n",
       "      <th>wind_speed_R336_median</th>\n",
       "      <th>wind_speed_R336_min</th>\n",
       "      <th>wind_speed_R336_max</th>\n",
       "      <th>wind_speed_R720_mean</th>\n",
       "      <th>wind_speed_R720_median</th>\n",
       "      <th>wind_speed_R720_min</th>\n",
       "      <th>wind_speed_R720_max</th>\n",
       "    </tr>\n",
       "  </thead>\n",
       "  <tbody>\n",
       "  </tbody>\n",
       "</table>\n",
       "<p>0 rows × 149 columns</p>\n",
       "</div>"
      ],
      "text/plain": [
       "Empty DataFrame\n",
       "Columns: [site_id, timestamp, air_temperature, cloud_coverage, dew_temperature, precip_depth_1_hr, sea_level_pressure, wind_direction, wind_speed, air_temperature_R72_mean, air_temperature_R72_median, air_temperature_R72_min, air_temperature_R72_max, air_temperature_R120_mean, air_temperature_R120_median, air_temperature_R120_min, air_temperature_R120_max, air_temperature_R168_mean, air_temperature_R168_median, air_temperature_R168_min, air_temperature_R168_max, air_temperature_R336_mean, air_temperature_R336_median, air_temperature_R336_min, air_temperature_R336_max, air_temperature_R720_mean, air_temperature_R720_median, air_temperature_R720_min, air_temperature_R720_max, cloud_coverage_R72_mean, cloud_coverage_R72_median, cloud_coverage_R72_min, cloud_coverage_R72_max, cloud_coverage_R120_mean, cloud_coverage_R120_median, cloud_coverage_R120_min, cloud_coverage_R120_max, cloud_coverage_R168_mean, cloud_coverage_R168_median, cloud_coverage_R168_min, cloud_coverage_R168_max, cloud_coverage_R336_mean, cloud_coverage_R336_median, cloud_coverage_R336_min, cloud_coverage_R336_max, cloud_coverage_R720_mean, cloud_coverage_R720_median, cloud_coverage_R720_min, cloud_coverage_R720_max, dew_temperature_R72_mean, dew_temperature_R72_median, dew_temperature_R72_min, dew_temperature_R72_max, dew_temperature_R120_mean, dew_temperature_R120_median, dew_temperature_R120_min, dew_temperature_R120_max, dew_temperature_R168_mean, dew_temperature_R168_median, dew_temperature_R168_min, dew_temperature_R168_max, dew_temperature_R336_mean, dew_temperature_R336_median, dew_temperature_R336_min, dew_temperature_R336_max, dew_temperature_R720_mean, dew_temperature_R720_median, dew_temperature_R720_min, dew_temperature_R720_max, precip_depth_1_hr_R72_mean, precip_depth_1_hr_R72_median, precip_depth_1_hr_R72_min, precip_depth_1_hr_R72_max, precip_depth_1_hr_R120_mean, precip_depth_1_hr_R120_median, precip_depth_1_hr_R120_min, precip_depth_1_hr_R120_max, precip_depth_1_hr_R168_mean, precip_depth_1_hr_R168_median, precip_depth_1_hr_R168_min, precip_depth_1_hr_R168_max, precip_depth_1_hr_R336_mean, precip_depth_1_hr_R336_median, precip_depth_1_hr_R336_min, precip_depth_1_hr_R336_max, precip_depth_1_hr_R720_mean, precip_depth_1_hr_R720_median, precip_depth_1_hr_R720_min, precip_depth_1_hr_R720_max, sea_level_pressure_R72_mean, sea_level_pressure_R72_median, sea_level_pressure_R72_min, sea_level_pressure_R72_max, sea_level_pressure_R120_mean, sea_level_pressure_R120_median, sea_level_pressure_R120_min, sea_level_pressure_R120_max, sea_level_pressure_R168_mean, sea_level_pressure_R168_median, sea_level_pressure_R168_min, ...]\n",
       "Index: []\n",
       "\n",
       "[0 rows x 149 columns]"
      ]
     },
     "execution_count": 40,
     "metadata": {},
     "output_type": "execute_result"
    }
   ],
   "source": [
    "weather_train[weather_train['dew_temperature_R72_mean'].isnull()]"
   ]
  },
  {
   "cell_type": "code",
   "execution_count": null,
   "metadata": {},
   "outputs": [],
   "source": []
  },
  {
   "cell_type": "code",
   "execution_count": null,
   "metadata": {},
   "outputs": [],
   "source": []
  },
  {
   "cell_type": "code",
   "execution_count": null,
   "metadata": {},
   "outputs": [],
   "source": []
  },
  {
   "cell_type": "code",
   "execution_count": null,
   "metadata": {},
   "outputs": [],
   "source": []
  },
  {
   "cell_type": "markdown",
   "metadata": {},
   "source": [
    "## Date Preprocessing for train and weather"
   ]
  },
  {
   "cell_type": "code",
   "execution_count": 18,
   "metadata": {
    "collapsed": true
   },
   "outputs": [
    {
     "ename": "KeyboardInterrupt",
     "evalue": "",
     "output_type": "error",
     "traceback": [
      "\u001b[1;31m---------------------------------------------------------------------------\u001b[0m",
      "\u001b[1;31mKeyboardInterrupt\u001b[0m                         Traceback (most recent call last)",
      "\u001b[1;32m<ipython-input-18-9328f7879594>\u001b[0m in \u001b[0;36m<module>\u001b[1;34m\u001b[0m\n\u001b[0;32m     17\u001b[0m \u001b[0mtrain\u001b[0m           \u001b[1;33m=\u001b[0m \u001b[0mchange_date\u001b[0m\u001b[1;33m(\u001b[0m\u001b[0mtrain\u001b[0m\u001b[1;33m)\u001b[0m\u001b[1;33m\u001b[0m\u001b[1;33m\u001b[0m\u001b[0m\n\u001b[0;32m     18\u001b[0m \u001b[0mweather_train\u001b[0m   \u001b[1;33m=\u001b[0m \u001b[0mchange_datetime\u001b[0m\u001b[1;33m(\u001b[0m\u001b[0mweather_train\u001b[0m\u001b[1;33m)\u001b[0m\u001b[1;33m\u001b[0m\u001b[1;33m\u001b[0m\u001b[0m\n\u001b[1;32m---> 19\u001b[1;33m \u001b[0mtest\u001b[0m            \u001b[1;33m=\u001b[0m \u001b[0mchange_date\u001b[0m\u001b[1;33m(\u001b[0m\u001b[0mtest\u001b[0m\u001b[1;33m)\u001b[0m\u001b[1;33m\u001b[0m\u001b[1;33m\u001b[0m\u001b[0m\n\u001b[0m\u001b[0;32m     20\u001b[0m \u001b[0mweather_test\u001b[0m    \u001b[1;33m=\u001b[0m \u001b[0mchange_datetime\u001b[0m\u001b[1;33m(\u001b[0m\u001b[0mweather_test\u001b[0m\u001b[1;33m)\u001b[0m\u001b[1;33m\u001b[0m\u001b[1;33m\u001b[0m\u001b[0m\n",
      "\u001b[1;32m<ipython-input-18-9328f7879594>\u001b[0m in \u001b[0;36mchange_date\u001b[1;34m(df)\u001b[0m\n\u001b[0;32m     11\u001b[0m     \u001b[0mdf\u001b[0m\u001b[1;33m[\u001b[0m\u001b[1;34m'timestamp'\u001b[0m\u001b[1;33m]\u001b[0m \u001b[1;33m=\u001b[0m \u001b[0mpd\u001b[0m\u001b[1;33m.\u001b[0m\u001b[0mto_datetime\u001b[0m\u001b[1;33m(\u001b[0m\u001b[0mdf\u001b[0m\u001b[1;33m[\u001b[0m\u001b[1;34m'timestamp'\u001b[0m\u001b[1;33m]\u001b[0m\u001b[1;33m)\u001b[0m\u001b[1;33m\u001b[0m\u001b[1;33m\u001b[0m\u001b[0m\n\u001b[0;32m     12\u001b[0m     \u001b[0mdf\u001b[0m\u001b[1;33m[\u001b[0m\u001b[1;34m'year'\u001b[0m\u001b[1;33m]\u001b[0m      \u001b[1;33m=\u001b[0m \u001b[0mpd\u001b[0m\u001b[1;33m.\u001b[0m\u001b[0mto_datetime\u001b[0m\u001b[1;33m(\u001b[0m\u001b[0mdf\u001b[0m\u001b[1;33m[\u001b[0m\u001b[1;34m'timestamp'\u001b[0m\u001b[1;33m]\u001b[0m\u001b[1;33m)\u001b[0m\u001b[1;33m.\u001b[0m\u001b[0mmap\u001b[0m\u001b[1;33m(\u001b[0m\u001b[1;32mlambda\u001b[0m \u001b[0mx\u001b[0m\u001b[1;33m:\u001b[0m \u001b[0mx\u001b[0m\u001b[1;33m.\u001b[0m\u001b[0mstrftime\u001b[0m\u001b[1;33m(\u001b[0m\u001b[1;34m'%Y'\u001b[0m\u001b[1;33m)\u001b[0m\u001b[1;33m)\u001b[0m\u001b[1;33m.\u001b[0m\u001b[0mastype\u001b[0m\u001b[1;33m(\u001b[0m\u001b[0mint\u001b[0m\u001b[1;33m)\u001b[0m\u001b[1;33m\u001b[0m\u001b[1;33m\u001b[0m\u001b[0m\n\u001b[1;32m---> 13\u001b[1;33m     \u001b[0mdf\u001b[0m\u001b[1;33m[\u001b[0m\u001b[1;34m'month'\u001b[0m\u001b[1;33m]\u001b[0m     \u001b[1;33m=\u001b[0m \u001b[0mdf\u001b[0m\u001b[1;33m[\u001b[0m\u001b[1;34m'timestamp'\u001b[0m\u001b[1;33m]\u001b[0m\u001b[1;33m.\u001b[0m\u001b[0mmap\u001b[0m\u001b[1;33m(\u001b[0m\u001b[1;32mlambda\u001b[0m \u001b[0mx\u001b[0m\u001b[1;33m:\u001b[0m \u001b[0mx\u001b[0m\u001b[1;33m.\u001b[0m\u001b[0mstrftime\u001b[0m\u001b[1;33m(\u001b[0m\u001b[1;34m'%m'\u001b[0m\u001b[1;33m)\u001b[0m\u001b[1;33m)\u001b[0m\u001b[1;33m.\u001b[0m\u001b[0mastype\u001b[0m\u001b[1;33m(\u001b[0m\u001b[0mint\u001b[0m\u001b[1;33m)\u001b[0m\u001b[1;33m\u001b[0m\u001b[1;33m\u001b[0m\u001b[0m\n\u001b[0m\u001b[0;32m     14\u001b[0m     \u001b[0mdf\u001b[0m\u001b[1;33m[\u001b[0m\u001b[1;34m'weekday'\u001b[0m\u001b[1;33m]\u001b[0m   \u001b[1;33m=\u001b[0m \u001b[0mdf\u001b[0m\u001b[1;33m[\u001b[0m\u001b[1;34m'timestamp'\u001b[0m\u001b[1;33m]\u001b[0m\u001b[1;33m.\u001b[0m\u001b[0mmap\u001b[0m\u001b[1;33m(\u001b[0m\u001b[1;32mlambda\u001b[0m \u001b[0mx\u001b[0m\u001b[1;33m:\u001b[0m \u001b[0mx\u001b[0m\u001b[1;33m.\u001b[0m\u001b[0mweekday\u001b[0m\u001b[1;33m(\u001b[0m\u001b[1;33m)\u001b[0m\u001b[1;33m)\u001b[0m\u001b[1;33m.\u001b[0m\u001b[0mastype\u001b[0m\u001b[1;33m(\u001b[0m\u001b[0mint\u001b[0m\u001b[1;33m)\u001b[0m\u001b[1;33m\u001b[0m\u001b[1;33m\u001b[0m\u001b[0m\n\u001b[0;32m     15\u001b[0m     \u001b[1;32mreturn\u001b[0m \u001b[0mdf\u001b[0m\u001b[1;33m\u001b[0m\u001b[1;33m\u001b[0m\u001b[0m\n",
      "\u001b[1;32m~\\Anaconda3\\lib\\site-packages\\pandas\\core\\series.py\u001b[0m in \u001b[0;36mmap\u001b[1;34m(self, arg, na_action)\u001b[0m\n\u001b[0;32m   3380\u001b[0m         \"\"\"\n\u001b[0;32m   3381\u001b[0m         new_values = super(Series, self)._map_values(\n\u001b[1;32m-> 3382\u001b[1;33m             arg, na_action=na_action)\n\u001b[0m\u001b[0;32m   3383\u001b[0m         return self._constructor(new_values,\n\u001b[0;32m   3384\u001b[0m                                  index=self.index).__finalize__(self)\n",
      "\u001b[1;32m~\\Anaconda3\\lib\\site-packages\\pandas\\core\\base.py\u001b[0m in \u001b[0;36m_map_values\u001b[1;34m(self, mapper, na_action)\u001b[0m\n\u001b[0;32m   1216\u001b[0m \u001b[1;33m\u001b[0m\u001b[0m\n\u001b[0;32m   1217\u001b[0m         \u001b[1;31m# mapper is a function\u001b[0m\u001b[1;33m\u001b[0m\u001b[1;33m\u001b[0m\u001b[1;33m\u001b[0m\u001b[0m\n\u001b[1;32m-> 1218\u001b[1;33m         \u001b[0mnew_values\u001b[0m \u001b[1;33m=\u001b[0m \u001b[0mmap_f\u001b[0m\u001b[1;33m(\u001b[0m\u001b[0mvalues\u001b[0m\u001b[1;33m,\u001b[0m \u001b[0mmapper\u001b[0m\u001b[1;33m)\u001b[0m\u001b[1;33m\u001b[0m\u001b[1;33m\u001b[0m\u001b[0m\n\u001b[0m\u001b[0;32m   1219\u001b[0m \u001b[1;33m\u001b[0m\u001b[0m\n\u001b[0;32m   1220\u001b[0m         \u001b[1;32mreturn\u001b[0m \u001b[0mnew_values\u001b[0m\u001b[1;33m\u001b[0m\u001b[1;33m\u001b[0m\u001b[0m\n",
      "\u001b[1;32mpandas/_libs/lib.pyx\u001b[0m in \u001b[0;36mpandas._libs.lib.map_infer\u001b[1;34m()\u001b[0m\n",
      "\u001b[1;32m<ipython-input-18-9328f7879594>\u001b[0m in \u001b[0;36m<lambda>\u001b[1;34m(x)\u001b[0m\n\u001b[0;32m     11\u001b[0m     \u001b[0mdf\u001b[0m\u001b[1;33m[\u001b[0m\u001b[1;34m'timestamp'\u001b[0m\u001b[1;33m]\u001b[0m \u001b[1;33m=\u001b[0m \u001b[0mpd\u001b[0m\u001b[1;33m.\u001b[0m\u001b[0mto_datetime\u001b[0m\u001b[1;33m(\u001b[0m\u001b[0mdf\u001b[0m\u001b[1;33m[\u001b[0m\u001b[1;34m'timestamp'\u001b[0m\u001b[1;33m]\u001b[0m\u001b[1;33m)\u001b[0m\u001b[1;33m\u001b[0m\u001b[1;33m\u001b[0m\u001b[0m\n\u001b[0;32m     12\u001b[0m     \u001b[0mdf\u001b[0m\u001b[1;33m[\u001b[0m\u001b[1;34m'year'\u001b[0m\u001b[1;33m]\u001b[0m      \u001b[1;33m=\u001b[0m \u001b[0mpd\u001b[0m\u001b[1;33m.\u001b[0m\u001b[0mto_datetime\u001b[0m\u001b[1;33m(\u001b[0m\u001b[0mdf\u001b[0m\u001b[1;33m[\u001b[0m\u001b[1;34m'timestamp'\u001b[0m\u001b[1;33m]\u001b[0m\u001b[1;33m)\u001b[0m\u001b[1;33m.\u001b[0m\u001b[0mmap\u001b[0m\u001b[1;33m(\u001b[0m\u001b[1;32mlambda\u001b[0m \u001b[0mx\u001b[0m\u001b[1;33m:\u001b[0m \u001b[0mx\u001b[0m\u001b[1;33m.\u001b[0m\u001b[0mstrftime\u001b[0m\u001b[1;33m(\u001b[0m\u001b[1;34m'%Y'\u001b[0m\u001b[1;33m)\u001b[0m\u001b[1;33m)\u001b[0m\u001b[1;33m.\u001b[0m\u001b[0mastype\u001b[0m\u001b[1;33m(\u001b[0m\u001b[0mint\u001b[0m\u001b[1;33m)\u001b[0m\u001b[1;33m\u001b[0m\u001b[1;33m\u001b[0m\u001b[0m\n\u001b[1;32m---> 13\u001b[1;33m     \u001b[0mdf\u001b[0m\u001b[1;33m[\u001b[0m\u001b[1;34m'month'\u001b[0m\u001b[1;33m]\u001b[0m     \u001b[1;33m=\u001b[0m \u001b[0mdf\u001b[0m\u001b[1;33m[\u001b[0m\u001b[1;34m'timestamp'\u001b[0m\u001b[1;33m]\u001b[0m\u001b[1;33m.\u001b[0m\u001b[0mmap\u001b[0m\u001b[1;33m(\u001b[0m\u001b[1;32mlambda\u001b[0m \u001b[0mx\u001b[0m\u001b[1;33m:\u001b[0m \u001b[0mx\u001b[0m\u001b[1;33m.\u001b[0m\u001b[0mstrftime\u001b[0m\u001b[1;33m(\u001b[0m\u001b[1;34m'%m'\u001b[0m\u001b[1;33m)\u001b[0m\u001b[1;33m)\u001b[0m\u001b[1;33m.\u001b[0m\u001b[0mastype\u001b[0m\u001b[1;33m(\u001b[0m\u001b[0mint\u001b[0m\u001b[1;33m)\u001b[0m\u001b[1;33m\u001b[0m\u001b[1;33m\u001b[0m\u001b[0m\n\u001b[0m\u001b[0;32m     14\u001b[0m     \u001b[0mdf\u001b[0m\u001b[1;33m[\u001b[0m\u001b[1;34m'weekday'\u001b[0m\u001b[1;33m]\u001b[0m   \u001b[1;33m=\u001b[0m \u001b[0mdf\u001b[0m\u001b[1;33m[\u001b[0m\u001b[1;34m'timestamp'\u001b[0m\u001b[1;33m]\u001b[0m\u001b[1;33m.\u001b[0m\u001b[0mmap\u001b[0m\u001b[1;33m(\u001b[0m\u001b[1;32mlambda\u001b[0m \u001b[0mx\u001b[0m\u001b[1;33m:\u001b[0m \u001b[0mx\u001b[0m\u001b[1;33m.\u001b[0m\u001b[0mweekday\u001b[0m\u001b[1;33m(\u001b[0m\u001b[1;33m)\u001b[0m\u001b[1;33m)\u001b[0m\u001b[1;33m.\u001b[0m\u001b[0mastype\u001b[0m\u001b[1;33m(\u001b[0m\u001b[0mint\u001b[0m\u001b[1;33m)\u001b[0m\u001b[1;33m\u001b[0m\u001b[1;33m\u001b[0m\u001b[0m\n\u001b[0;32m     15\u001b[0m     \u001b[1;32mreturn\u001b[0m \u001b[0mdf\u001b[0m\u001b[1;33m\u001b[0m\u001b[1;33m\u001b[0m\u001b[0m\n",
      "\u001b[1;31mKeyboardInterrupt\u001b[0m: "
     ]
    }
   ],
   "source": [
    "def change_datetime(df):\n",
    "    df['timestamp'] = pd.to_datetime(df['timestamp'])\n",
    "    df['year']      = df['timestamp'].map(lambda x: x.strftime('%Y')).astype(int)\n",
    "    df['month']     = df['timestamp'].map(lambda x: x.strftime('%m')).astype(int)\n",
    "    df['weekday']   = df['timestamp'].map(lambda x: x.weekday()).astype(int)\n",
    "    df['hour']      = df['timestamp'].map(lambda x: x.hour).astype(int)\n",
    "    \n",
    "    return df\n",
    "\n",
    "def change_date(df):\n",
    "    df['timestamp'] = pd.to_datetime(df['timestamp'])\n",
    "    df['year']      = pd.to_datetime(df['timestamp']).map(lambda x: x.strftime('%Y')).astype(int)\n",
    "    df['month']     = df['timestamp'].map(lambda x: x.strftime('%m')).astype(int)\n",
    "    df['weekday']   = df['timestamp'].map(lambda x: x.weekday()).astype(int)\n",
    "    return df\n",
    "\n",
    "train           = change_date(train)\n",
    "weather_train   = change_datetime(weather_train)\n",
    "test            = change_date(test)\n",
    "weather_test    = change_datetime(weather_test)"
   ]
  },
  {
   "cell_type": "code",
   "execution_count": null,
   "metadata": {},
   "outputs": [],
   "source": []
  },
  {
   "cell_type": "code",
   "execution_count": null,
   "metadata": {},
   "outputs": [],
   "source": []
  },
  {
   "cell_type": "code",
   "execution_count": null,
   "metadata": {},
   "outputs": [],
   "source": []
  }
 ],
 "metadata": {
  "kernelspec": {
   "display_name": "Python 3",
   "language": "python",
   "name": "python3"
  },
  "language_info": {
   "codemirror_mode": {
    "name": "ipython",
    "version": 3
   },
   "file_extension": ".py",
   "mimetype": "text/x-python",
   "name": "python",
   "nbconvert_exporter": "python",
   "pygments_lexer": "ipython3",
   "version": "3.7.3"
  }
 },
 "nbformat": 4,
 "nbformat_minor": 2
}
