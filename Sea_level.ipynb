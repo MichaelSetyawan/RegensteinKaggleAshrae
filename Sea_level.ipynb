{
 "cells": [
  {
   "cell_type": "markdown",
   "metadata": {},
   "source": [
    "### Weather_train_sea_level"
   ]
  },
  {
   "cell_type": "code",
   "execution_count": null,
   "metadata": {},
   "outputs": [],
   "source": [
    "import pandas as pd\n",
    "import numpy as np\n",
    "import os\n",
    "import matplotlib.pyplot as plt\n",
    "from datetime import date\n",
    "import time\n",
    "import math as ma"
   ]
  },
  {
   "cell_type": "code",
   "execution_count": null,
   "metadata": {},
   "outputs": [],
   "source": [
    "#change datapath here\n",
    "# datapath='/Users/michaelsetyawan/Desktop/ANALYTICS/Python-References/Ashrae/data'\n",
    "datapath='/Users/qisi_cao/Desktop/Kaggle Proj'"
   ]
  },
  {
   "cell_type": "code",
   "execution_count": null,
   "metadata": {},
   "outputs": [],
   "source": [
    "train             = pd.read_csv(datapath+'/train.csv')\n",
    "building_metadata = pd.read_csv(datapath+'/building_metadata.csv')\n",
    "weather_train     = pd.read_csv(datapath+'/weather_train.csv')\n",
    "test              = pd.read_csv(datapath+'/test.csv')\n",
    "weather_test      = pd.read_csv(datapath+'/weather_test.csv')"
   ]
  },
  {
   "cell_type": "code",
   "execution_count": null,
   "metadata": {},
   "outputs": [],
   "source": [
    "missing_value = weather_train['sea_level_pressure_R72_mean'].isnull().groupby(weather_train['site_id']).any()\n",
    "print(missing_value)"
   ]
  },
  {
   "cell_type": "code",
   "execution_count": null,
   "metadata": {},
   "outputs": [],
   "source": [
    "weather_train[weather_train['sea_level_pressure_R72_mean'].notnull() & (weather_train['site_id'] == 15)]['sea_level_pressure_R72_mean']"
   ]
  },
  {
   "cell_type": "code",
   "execution_count": null,
   "metadata": {},
   "outputs": [],
   "source": [
    "sea_level = weather_train[weather_train['sea_level_pressure_R72_mean'].notnull() & (weather_train['site_id'] == 15) &\n",
    "              (weather_train['timestamp'] > '2016-01-01') & (weather_train['timestamp'] < '2016-01-10')]\n",
    "ten_day_avg = np.average(sea_level['sea_level_pressure_R72_mean'])\n",
    "print(ten_day_avg)"
   ]
  },
  {
   "cell_type": "code",
   "execution_count": null,
   "metadata": {},
   "outputs": [],
   "source": [
    "weather_train.loc[weather_train['sea_level_pressure_R72_mean'].isnull() & \n",
    "                  (weather_train['site_id'] == 15)] = ten_day_avg"
   ]
  }
 ],
 "metadata": {
  "kernelspec": {
   "display_name": "Python 3",
   "language": "python",
   "name": "python3"
  },
  "language_info": {
   "codemirror_mode": {
    "name": "ipython",
    "version": 3
   },
   "file_extension": ".py",
   "mimetype": "text/x-python",
   "name": "python",
   "nbconvert_exporter": "python",
   "pygments_lexer": "ipython3",
   "version": "3.7.3"
  }
 },
 "nbformat": 4,
 "nbformat_minor": 4
}
